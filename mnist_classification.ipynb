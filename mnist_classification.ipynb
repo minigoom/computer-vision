{
  "nbformat": 4,
  "nbformat_minor": 0,
  "metadata": {
    "colab": {
      "name": "mnist classification.ipynb",
      "provenance": [],
      "machine_shape": "hm",
      "toc_visible": true
    },
    "kernelspec": {
      "name": "python3",
      "display_name": "Python 3"
    },
    "language_info": {
      "name": "python"
    },
    "accelerator": "GPU"
  },
  "cells": [
    {
      "cell_type": "markdown",
      "source": [
        ""
      ],
      "metadata": {
        "id": "SReUFpqMhwL8"
      }
    },
    {
      "cell_type": "markdown",
      "source": [
        "# 손글씨 분류기 \n",
        "0. import \n",
        "1. 데이터 준비\n",
        "2. 데이터 전처리\n",
        "3. 모델 만들기(네트워크 설계하기)\n",
        "4. 훈련\n",
        "5. 평가하기\n",
        "6. 성능 개선하기\n"
      ],
      "metadata": {
        "id": "ZRvyrX-mhxV2"
      }
    },
    {
      "cell_type": "markdown",
      "source": [
        "## 1. 데이터 준비하기\n",
        "- tensorflow 의 표준 API 인 Sequentail API 를 이용하에 손글씨 인식기 만든다.\n",
        "- tensorflow 는 구글에서 오픈 소스로 제공하는 가장 널리 상요하고 있는 머신러닝 라이브러리 중 하나이다."
      ],
      "metadata": {
        "id": "hmJ7fkJRiFzt"
      }
    },
    {
      "cell_type": "code",
      "source": [
        "import tensorflow as tf\n",
        "from tensorflow import keras\n",
        "\n",
        "import numpy as np\n",
        "import matplotlib.pyplot as plt\n",
        "import os\n",
        "\n",
        "# Tensorflow 버전 출력하기\n",
        "print(tf.__version__)\n",
        "\n",
        "mnist = keras.datasets.mnist\n",
        "(x_train,y_train),(x_test,y_test) = mnist.load_data()\n",
        "\n"
      ],
      "metadata": {
        "colab": {
          "base_uri": "https://localhost:8080/"
        },
        "id": "Tte3dliUh_gP",
        "outputId": "2c259323-44c2-41e9-c7c8-6a1fe2c9cabb"
      },
      "execution_count": null,
      "outputs": [
        {
          "output_type": "stream",
          "name": "stdout",
          "text": [
            "2.8.0\n"
          ]
        }
      ]
    },
    {
      "cell_type": "markdown",
      "source": [
        "## 2. 데이터 전처리, 데이터 확인하기"
      ],
      "metadata": {
        "id": "dhLs3fDhi-Ha"
      }
    },
    {
      "cell_type": "code",
      "source": [
        "plt.imshow(x_train[1],cmap=plt.cm.binary)\n",
        "plt.show()"
      ],
      "metadata": {
        "colab": {
          "base_uri": "https://localhost:8080/",
          "height": 265
        },
        "id": "ynWqwoebixSR",
        "outputId": "194abf7f-0e0c-4adb-e587-35a543e4ce26"
      },
      "execution_count": null,
      "outputs": [
        {
          "output_type": "display_data",
          "data": {
            "text/plain": [
              "<Figure size 432x288 with 1 Axes>"
            ],
            "image/png": "[encoded data removed]"
          },
          "metadata": {
            "needs_background": "light"
          }
        }
      ]
    },
    {
      "cell_type": "code",
      "source": [
        "print(y_train[1])"
      ],
      "metadata": {
        "colab": {
          "base_uri": "https://localhost:8080/"
        },
        "id": "vctRqm16jFb_",
        "outputId": "736824be-d03b-4697-b8da-77e05408aa53"
      },
      "execution_count": null,
      "outputs": [
        {
          "output_type": "stream",
          "name": "stdout",
          "text": [
            "0\n"
          ]
        }
      ]
    },
    {
      "cell_type": "code",
      "source": [
        "print(x_train.shape)"
      ],
      "metadata": {
        "colab": {
          "base_uri": "https://localhost:8080/"
        },
        "id": "-xTBfUsHjNIe",
        "outputId": "ab3fc82f-e0d8-4b77-81f3-131eb5b13069"
      },
      "execution_count": null,
      "outputs": [
        {
          "output_type": "stream",
          "name": "stdout",
          "text": [
            "(60000, 28, 28)\n"
          ]
        }
      ]
    },
    {
      "cell_type": "code",
      "source": [
        "print(x_test.shape)"
      ],
      "metadata": {
        "colab": {
          "base_uri": "https://localhost:8080/"
        },
        "id": "GO8jK3vFjeKg",
        "outputId": "35529092-7a1a-483d-b447-5045f7d846d8"
      },
      "execution_count": null,
      "outputs": [
        {
          "output_type": "stream",
          "name": "stdout",
          "text": [
            "(10000, 28, 28)\n"
          ]
        }
      ]
    },
    {
      "cell_type": "markdown",
      "source": [
        "- 60,000 개의 train data\n",
        "- 10,000 개의 test data "
      ],
      "metadata": {
        "id": "E7iHG0hCjhiI"
      }
    },
    {
      "cell_type": "code",
      "source": [
        "# 손글씨 픽셀값은 0 ~ 255 사이의 값을 가진다\n",
        "print('최소값:',np.min(x_train), ' 최대값:',np.max(x_train))\n",
        "# 픽셀값이 0 으로 갈수록 검은색 255 로 갈수록 밝은색이 나타난다."
      ],
      "metadata": {
        "colab": {
          "base_uri": "https://localhost:8080/"
        },
        "id": "eEyElUfIjg5j",
        "outputId": "c2d4e61c-51d0-43c2-9af9-6d86f0bfbae4"
      },
      "execution_count": null,
      "outputs": [
        {
          "output_type": "stream",
          "name": "stdout",
          "text": [
            "최소값: 0  최대값: 255\n"
          ]
        }
      ]
    },
    {
      "cell_type": "code",
      "source": [
        "# 최소값이 0, 최대값이 1로 나오도록 시키자\n",
        "x_train_norm, x_test_norm = x_train/255, x_test/255\n",
        "print('최소값:',np.min(x_train_norm),'최대값:',np.max(x_test_norm))"
      ],
      "metadata": {
        "colab": {
          "base_uri": "https://localhost:8080/"
        },
        "id": "hHmHFUJHjgWG",
        "outputId": "af890892-27c1-4121-89df-8675e2f4e937"
      },
      "execution_count": null,
      "outputs": [
        {
          "output_type": "stream",
          "name": "stdout",
          "text": [
            "최소값: 0.0 최대값: 1.0\n"
          ]
        }
      ]
    },
    {
      "cell_type": "markdown",
      "source": [
        "## 3. 네트워크 설계하기\n",
        "- tf.keras 에서 Sequentail API 방법을 사용한다\n",
        "- 개발의 자유도는 떨어지지만 매우 간단하게 딥러닝 모델을 만들 수 있는 방법이다"
      ],
      "metadata": {
        "id": "PpNLcQj6k6I4"
      }
    },
    {
      "cell_type": "code",
      "source": [
        "model = keras.models.Sequential()\n",
        "model.add(keras.layers.Conv2D(16,(3,3),activation='relu', input_shape=(28,28,1)))\n",
        "model.add(keras.layers.MaxPool2D(2,2))\n",
        "model.add(keras.layers.Conv2D(32,(3,3), activation='relu'))\n",
        "model.add(keras.layers.MaxPooling2D((2,2)))\n",
        "model.add(keras.layers.Flatten())\n",
        "model.add(keras.layers.Dense(32, activation='relu'))\n",
        "model.add(keras.layers.Dense(10,activation='softmax'))\n",
        "\n",
        "print(\"Model에 추가된 layer 수:\", len(model.layers))"
      ],
      "metadata": {
        "colab": {
          "base_uri": "https://localhost:8080/"
        },
        "id": "ODtfJVY9kxF4",
        "outputId": "0fc54183-38fd-4d62-886f-8237c3ff34a5"
      },
      "execution_count": null,
      "outputs": [
        {
          "output_type": "stream",
          "name": "stdout",
          "text": [
            "Model에 추가된 layer 수: 7\n"
          ]
        }
      ]
    },
    {
      "cell_type": "code",
      "source": [
        "model.summary()"
      ],
      "metadata": {
        "colab": {
          "base_uri": "https://localhost:8080/"
        },
        "id": "lihjsntHmaYv",
        "outputId": "c1a353bd-bc91-4e43-a944-a3fd57185f9d"
      },
      "execution_count": null,
      "outputs": [
        {
          "output_type": "stream",
          "name": "stdout",
          "text": [
            "Model: \"sequential_2\"\n",
            "_________________________________________________________________\n",
            " Layer (type)                Output Shape              Param #   \n",
            "=================================================================\n",
            " conv2d_4 (Conv2D)           (None, 26, 26, 16)        160       \n",
            "                                                                 \n",
            " max_pooling2d_4 (MaxPooling  (None, 13, 13, 16)       0         \n",
            " 2D)                                                             \n",
            "                                                                 \n",
            " conv2d_5 (Conv2D)           (None, 11, 11, 32)        4640      \n",
            "                                                                 \n",
            " max_pooling2d_5 (MaxPooling  (None, 5, 5, 32)         0         \n",
            " 2D)                                                             \n",
            "                                                                 \n",
            " flatten_2 (Flatten)         (None, 800)               0         \n",
            "                                                                 \n",
            " dense_4 (Dense)             (None, 32)                25632     \n",
            "                                                                 \n",
            " dense_5 (Dense)             (None, 10)                330       \n",
            "                                                                 \n",
            "=================================================================\n",
            "Total params: 30,762\n",
            "Trainable params: 30,762\n",
            "Non-trainable params: 0\n",
            "_________________________________________________________________\n"
          ]
        }
      ]
    },
    {
      "cell_type": "markdown",
      "source": [
        "## 4. 딥러닝 네트워크 학습시키기"
      ],
      "metadata": {
        "id": "RYDcWzBJnRYz"
      }
    },
    {
      "cell_type": "code",
      "source": [
        "print(\"Before Reshape - x_train_norm shape: {}\".format(x_train_norm.shape))\n",
        "print(\"Before Reshape - x_test_norm shape: {}\".format(x_test_norm.shape))\n",
        "\n",
        "x_train_reshaped=x_train_norm.reshape( -1, 28, 28, 1)  # 데이터갯수에 -1을 쓰면 reshape시 자동계산됩니다.\n",
        "x_test_reshaped=x_test_norm.reshape( -1, 28, 28, 1)\n",
        "\n",
        "print(\"After Reshape - x_train_reshaped shape: {}\".format(x_train_reshaped.shape))\n",
        "print(\"After Reshape - x_test_reshaped shape: {}\".format(x_test_reshaped.shape))"
      ],
      "metadata": {
        "colab": {
          "base_uri": "https://localhost:8080/"
        },
        "id": "V259KELenNOV",
        "outputId": "87942c3b-38ff-4168-c4ac-edc494adb3c6"
      },
      "execution_count": null,
      "outputs": [
        {
          "output_type": "stream",
          "name": "stdout",
          "text": [
            "Before Reshape - x_train_norm shape: (60000, 28, 28)\n",
            "Before Reshape - x_test_norm shape: (10000, 28, 28)\n",
            "After Reshape - x_train_reshaped shape: (60000, 28, 28, 1)\n",
            "After Reshape - x_test_reshaped shape: (10000, 28, 28, 1)\n"
          ]
        }
      ]
    },
    {
      "cell_type": "code",
      "source": [
        "# 조기종료 항목 추가\n",
        "# earlystopping\n"
      ],
      "metadata": {
        "id": "zuhljC9ZMJSl"
      },
      "execution_count": null,
      "outputs": []
    },
    {
      "cell_type": "code",
      "source": [
        "# 딥러닝 학습시키고 학습 설정하기\n",
        "model.compile(optimizer='adam',\n",
        "             loss='sparse_categorical_crossentropy',\n",
        "             metrics=['accuracy'])\n",
        "\n",
        "history = model.fit(x_train_reshaped, y_train, epochs=10)"
      ],
      "metadata": {
        "colab": {
          "base_uri": "https://localhost:8080/"
        },
        "id": "qjkPEpVwnvyw",
        "outputId": "2168dd88-a2e9-47fc-fd3b-df7dce1f6566"
      },
      "execution_count": null,
      "outputs": [
        {
          "output_type": "stream",
          "name": "stdout",
          "text": [
            "Epoch 1/10\n",
            "1875/1875 [==============================] - 5s 3ms/step - loss: 0.1915 - accuracy: 0.9422\n",
            "Epoch 2/10\n",
            "1875/1875 [==============================] - 5s 3ms/step - loss: 0.0593 - accuracy: 0.9821\n",
            "Epoch 3/10\n",
            "1875/1875 [==============================] - 5s 3ms/step - loss: 0.0431 - accuracy: 0.9865\n",
            "Epoch 4/10\n",
            "1875/1875 [==============================] - 5s 3ms/step - loss: 0.0332 - accuracy: 0.9894\n",
            "Epoch 5/10\n",
            "1875/1875 [==============================] - 5s 3ms/step - loss: 0.0270 - accuracy: 0.9914\n",
            "Epoch 6/10\n",
            "1875/1875 [==============================] - 5s 3ms/step - loss: 0.0224 - accuracy: 0.9929\n",
            "Epoch 7/10\n",
            "1875/1875 [==============================] - 5s 3ms/step - loss: 0.0187 - accuracy: 0.9939\n",
            "Epoch 8/10\n",
            "1875/1875 [==============================] - 5s 3ms/step - loss: 0.0153 - accuracy: 0.9950\n",
            "Epoch 9/10\n",
            "1875/1875 [==============================] - 5s 3ms/step - loss: 0.0125 - accuracy: 0.9962\n",
            "Epoch 10/10\n",
            "1875/1875 [==============================] - 5s 3ms/step - loss: 0.0116 - accuracy: 0.9961\n"
          ]
        }
      ]
    },
    {
      "cell_type": "code",
      "source": [
        "print(history.history.keys())"
      ],
      "metadata": {
        "colab": {
          "base_uri": "https://localhost:8080/"
        },
        "id": "zYBoiFOUFgMN",
        "outputId": "e4db56d0-ee32-48c5-fbfd-c9dcd969f669"
      },
      "execution_count": null,
      "outputs": [
        {
          "output_type": "stream",
          "name": "stdout",
          "text": [
            "dict_keys(['loss', 'accuracy'])\n"
          ]
        }
      ]
    },
    {
      "cell_type": "code",
      "source": [
        "# 그래프로 한번 표현해보기\n",
        "plt.plot(history.history['loss'])\n",
        "plt.xlabel('epoch')\n",
        "plt.ylabel('loss')\n",
        "plt.show()\n",
        "         "
      ],
      "metadata": {
        "colab": {
          "base_uri": "https://localhost:8080/",
          "height": 283
        },
        "id": "KUwNkEihGDT2",
        "outputId": "806a7db3-0bba-4e69-a1fd-beaced6dee69"
      },
      "execution_count": null,
      "outputs": [
        {
          "output_type": "display_data",
          "data": {
            "text/plain": [
              "<Figure size 432x288 with 1 Axes>"
            ],
            "image/png": "[encoded data removed]"
          },
          "metadata": {
            "needs_background": "light"
          }
        }
      ]
    },
    {
      "cell_type": "code",
      "source": [
        "plt.plot(history.history['accuracy'])\n",
        "plt.xlabel('epoch')\n",
        "plt.ylabel('loss')\n",
        "plt.show()\n",
        "         "
      ],
      "metadata": {
        "colab": {
          "base_uri": "https://localhost:8080/",
          "height": 279
        },
        "id": "D7PyrISvGDP0",
        "outputId": "19de1af1-272c-4ebb-ae8d-3dbc668bb1ef"
      },
      "execution_count": null,
      "outputs": [
        {
          "output_type": "display_data",
          "data": {
            "text/plain": [
              "<Figure size 432x288 with 1 Axes>"
            ],
            "image/png": "[encoded data removed]"
          },
          "metadata": {
            "needs_background": "light"
          }
        }
      ]
    },
    {
      "cell_type": "code",
      "source": [
        ""
      ],
      "metadata": {
        "id": "wIuhNs6bGDH3"
      },
      "execution_count": null,
      "outputs": []
    },
    {
      "cell_type": "markdown",
      "source": [
        "##5. 평가하기"
      ],
      "metadata": {
        "id": "-1jltJhlvUDE"
      }
    },
    {
      "cell_type": "code",
      "source": [
        "test_loss, test_accuracy = model.evaluate(x_test_reshaped,y_test, verbose=1)"
      ],
      "metadata": {
        "id": "j9EhUevGnwcu",
        "colab": {
          "base_uri": "https://localhost:8080/"
        },
        "outputId": "16a15447-1dcc-410c-b6f4-dd04fdc9c76e"
      },
      "execution_count": null,
      "outputs": [
        {
          "output_type": "stream",
          "name": "stdout",
          "text": [
            "313/313 [==============================] - 1s 2ms/step - loss: 0.0344 - accuracy: 0.9907\n"
          ]
        }
      ]
    },
    {
      "cell_type": "markdown",
      "source": [
        "-  test data 로 accuracy 를 계산하였을때 0.9881 이 나왔다\n",
        "- test data 10000개 중에 몇개가 틀렸는지 궁금하다 : 119개"
      ],
      "metadata": {
        "id": "0iN3MorzZ60f"
      }
    },
    {
      "cell_type": "code",
      "source": [
        "predicted_result = model.predict(x_test_reshaped)  # model이 추론한 확률값. \n",
        "predicted_labels = np.argmax(predicted_result, axis=1)\n",
        "\n",
        "idx=[0,1,2,3,4,5,6,7,8,9]  #1번째 x_test를 살펴보자.\n",
        "for i in idx:\n",
        "    print('model.predict() 결과 : ', predicted_result[i])\n",
        "    print('model이 추론한 가장 가능성이 높은 결과 : ', predicted_labels[i])\n",
        "    print('실제 데이터의 라벨 : ', y_test[i])\n",
        "    \n",
        "    plt.imshow(x_test[i],cmap=plt.cm.binary)\n",
        "    plt.show()"
      ],
      "metadata": {
        "colab": {
          "base_uri": "https://localhost:8080/",
          "height": 1000
        },
        "id": "CZWM43CdJgIi",
        "outputId": "772d2192-5347-49f4-821b-91975e80abf7"
      },
      "execution_count": null,
      "outputs": [
        {
          "output_type": "stream",
          "name": "stdout",
          "text": [
            "model.predict() 결과 :  [1.11695250e-10 1.02796235e-11 2.89116664e-09 2.18204335e-08\n",
            " 6.46014769e-11 7.70673303e-09 1.50431357e-15 1.00000000e+00\n",
            " 7.09064682e-11 8.63356941e-09]\n",
            "model이 추론한 가장 가능성이 높은 결과 :  7\n",
            "실제 데이터의 라벨 :  7\n"
          ]
        },
        {
          "output_type": "display_data",
          "data": {
            "text/plain": [
              "<Figure size 432x288 with 1 Axes>"
            ],
            "image/png": "[encoded data removed]"
          },
          "metadata": {
            "needs_background": "light"
          }
        },
        {
          "output_type": "stream",
          "name": "stdout",
          "text": [
            "model.predict() 결과 :  [3.4885832e-09 4.6568594e-08 1.0000000e+00 2.8228053e-15 2.0074802e-15\n",
            " 6.7410288e-19 3.6543529e-12 2.2384042e-15 1.0461678e-11 2.6409267e-16]\n",
            "model이 추론한 가장 가능성이 높은 결과 :  2\n",
            "실제 데이터의 라벨 :  2\n"
          ]
        },
        {
          "output_type": "display_data",
          "data": {
            "text/plain": [
              "<Figure size 432x288 with 1 Axes>"
            ],
            "image/png": "[encoded data removed]"
          },
          "metadata": {
            "needs_background": "light"
          }
        },
        {
          "output_type": "stream",
          "name": "stdout",
          "text": [
            "model.predict() 결과 :  [5.2846678e-07 9.9998975e-01 4.2701959e-07 2.7114554e-11 3.4778100e-06\n",
            " 3.2845935e-07 6.5976690e-07 9.0606329e-07 3.8916578e-06 1.2259093e-08]\n",
            "model이 추론한 가장 가능성이 높은 결과 :  1\n",
            "실제 데이터의 라벨 :  1\n"
          ]
        },
        {
          "output_type": "display_data",
          "data": {
            "text/plain": [
              "<Figure size 432x288 with 1 Axes>"
            ],
            "image/png": "[encoded data removed]"
          },
          "metadata": {
            "needs_background": "light"
          }
        },
        {
          "output_type": "stream",
          "name": "stdout",
          "text": [
            "model.predict() 결과 :  [1.0000000e+00 1.2338322e-15 7.8895002e-11 7.3618603e-12 1.9198894e-11\n",
            " 8.3602480e-10 2.0689178e-08 2.1371509e-08 5.9539221e-11 4.9579265e-09]\n",
            "model이 추론한 가장 가능성이 높은 결과 :  0\n",
            "실제 데이터의 라벨 :  0\n"
          ]
        },
        {
          "output_type": "display_data",
          "data": {
            "text/plain": [
              "<Figure size 432x288 with 1 Axes>"
            ],
            "image/png": "[encoded data removed]"
          },
          "metadata": {
            "needs_background": "light"
          }
        },
        {
          "output_type": "stream",
          "name": "stdout",
          "text": [
            "model.predict() 결과 :  [1.8612462e-12 3.6148805e-12 9.1342246e-12 3.6069289e-14 9.9997735e-01\n",
            " 4.2670850e-13 3.1986311e-13 9.0226582e-09 1.4557920e-10 2.2705632e-05]\n",
            "model이 추론한 가장 가능성이 높은 결과 :  4\n",
            "실제 데이터의 라벨 :  4\n"
          ]
        },
        {
          "output_type": "display_data",
          "data": {
            "text/plain": [
              "<Figure size 432x288 with 1 Axes>"
            ],
            "image/png": "[encoded data removed]"
          },
          "metadata": {
            "needs_background": "light"
          }
        },
        {
          "output_type": "stream",
          "name": "stdout",
          "text": [
            "model.predict() 결과 :  [1.5491449e-07 9.9999881e-01 3.5266208e-08 1.7090313e-13 3.2811336e-08\n",
            " 3.3396143e-11 1.2683763e-09 1.0008115e-06 3.7890580e-08 1.4132929e-09]\n",
            "model이 추론한 가장 가능성이 높은 결과 :  1\n",
            "실제 데이터의 라벨 :  1\n"
          ]
        },
        {
          "output_type": "display_data",
          "data": {
            "text/plain": [
              "<Figure size 432x288 with 1 Axes>"
            ],
            "image/png": "[encoded data removed]"
          },
          "metadata": {
            "needs_background": "light"
          }
        },
        {
          "output_type": "stream",
          "name": "stdout",
          "text": [
            "model.predict() 결과 :  [1.4090490e-15 6.8255707e-07 2.8691457e-12 1.3332125e-13 9.9996996e-01\n",
            " 1.6143842e-10 1.1402224e-13 3.0965285e-08 2.8455413e-05 8.8305870e-07]\n",
            "model이 추론한 가장 가능성이 높은 결과 :  4\n",
            "실제 데이터의 라벨 :  4\n"
          ]
        },
        {
          "output_type": "display_data",
          "data": {
            "text/plain": [
              "<Figure size 432x288 with 1 Axes>"
            ],
            "image/png": "[encoded data removed]"
          },
          "metadata": {
            "needs_background": "light"
          }
        },
        {
          "output_type": "stream",
          "name": "stdout",
          "text": [
            "model.predict() 결과 :  [7.1496845e-13 6.2684169e-10 5.3948230e-07 1.0041640e-08 3.2486673e-06\n",
            " 7.4456828e-08 2.8341981e-15 1.2624928e-09 3.0090698e-07 9.9999571e-01]\n",
            "model이 추론한 가장 가능성이 높은 결과 :  9\n",
            "실제 데이터의 라벨 :  9\n"
          ]
        },
        {
          "output_type": "display_data",
          "data": {
            "text/plain": [
              "<Figure size 432x288 with 1 Axes>"
            ],
            "image/png": "[encoded data removed]"
          },
          "metadata": {
            "needs_background": "light"
          }
        },
        {
          "output_type": "stream",
          "name": "stdout",
          "text": [
            "model.predict() 결과 :  [1.6984247e-10 4.5110421e-15 3.1632432e-14 2.4112216e-12 3.1394578e-11\n",
            " 9.9840802e-01 1.5712831e-03 7.6664820e-17 1.9882247e-05 8.0112005e-07]\n",
            "model이 추론한 가장 가능성이 높은 결과 :  5\n",
            "실제 데이터의 라벨 :  5\n"
          ]
        },
        {
          "output_type": "display_data",
          "data": {
            "text/plain": [
              "<Figure size 432x288 with 1 Axes>"
            ],
            "image/png": "[encoded data removed]"
          },
          "metadata": {
            "needs_background": "light"
          }
        },
        {
          "output_type": "stream",
          "name": "stdout",
          "text": [
            "model.predict() 결과 :  [3.1009282e-12 3.4537314e-12 7.4691650e-12 7.1120575e-11 7.6897384e-04\n",
            " 8.2589914e-08 1.6575712e-15 1.3030029e-04 2.9990067e-06 9.9909770e-01]\n",
            "model이 추론한 가장 가능성이 높은 결과 :  9\n",
            "실제 데이터의 라벨 :  9\n"
          ]
        },
        {
          "output_type": "display_data",
          "data": {
            "text/plain": [
              "<Figure size 432x288 with 1 Axes>"
            ],
            "image/png": "[encoded data removed]"
          },
          "metadata": {
            "needs_background": "light"
          }
        }
      ]
    },
    {
      "cell_type": "code",
      "source": [
        "# 틀린 부분 출력해서 한번 보기\n",
        "import random\n",
        "wrong_predict_list=[]\n",
        "for i, _ in enumerate(predicted_labels): # 값을 무시할경우 _ 사용한다\n",
        "    # i번째 test_labels과 y_test이 다른 경우만 모아 봅시다. \n",
        "    if predicted_labels[i] != y_test[i]:\n",
        "        wrong_predict_list.append(i)\n",
        "\n",
        "# 틀린 부분의 개수를 출력해보자\n",
        "print('틀린 개수:', len(wrong_predict_list))\n",
        "\n",
        "# wrong_predict_list 에서 랜덤하게 5개만 뽑아봅시다.\n",
        "samples = random.choices(population=wrong_predict_list, k=5)\n",
        "for n in samples:\n",
        "    print(\"예측확률분포: \" + str(predicted_result[n]))\n",
        "    print(\"라벨: \" + str(y_test[n]) + \", 예측결과: \" + str(predicted_labels[n]))\n",
        "    plt.imshow(x_test[n], cmap=plt.cm.binary)\n",
        "    plt.show()"
      ],
      "metadata": {
        "colab": {
          "base_uri": "https://localhost:8080/",
          "height": 1000
        },
        "id": "m0i0wUVWaNN4",
        "outputId": "1e1c849b-0165-41de-fe3f-9a185e41bc51"
      },
      "execution_count": null,
      "outputs": [
        {
          "output_type": "stream",
          "name": "stdout",
          "text": [
            "틀린 개수: 93\n",
            "예측확률분포: [9.99978781e-01 1.17239905e-14 1.96102010e-05 6.58032251e-09\n",
            " 1.89326623e-15 2.90616919e-10 3.15726993e-11 1.53315511e-06\n",
            " 1.45131671e-10 1.71268546e-08]\n",
            "라벨: 2, 예측결과: 0\n"
          ]
        },
        {
          "output_type": "display_data",
          "data": {
            "text/plain": [
              "<Figure size 432x288 with 1 Axes>"
            ],
            "image/png": "[encoded data removed]"
          },
          "metadata": {
            "needs_background": "light"
          }
        },
        {
          "output_type": "stream",
          "name": "stdout",
          "text": [
            "예측확률분포: [1.84038562e-13 3.48350876e-10 2.80992308e-12 9.93731320e-01\n",
            " 1.05964564e-10 6.03128131e-03 7.77800256e-20 4.42516033e-08\n",
            " 3.43082682e-08 2.37194530e-04]\n",
            "라벨: 5, 예측결과: 3\n"
          ]
        },
        {
          "output_type": "display_data",
          "data": {
            "text/plain": [
              "<Figure size 432x288 with 1 Axes>"
            ],
            "image/png": "[encoded data removed]"
          },
          "metadata": {
            "needs_background": "light"
          }
        },
        {
          "output_type": "stream",
          "name": "stdout",
          "text": [
            "예측확률분포: [2.6693104e-07 2.5398188e-07 5.0224862e-05 8.5085416e-01 3.9961222e-11\n",
            " 7.1938061e-08 2.3123459e-07 3.0989750e-10 1.4909483e-01 3.9497206e-09]\n",
            "라벨: 8, 예측결과: 3\n"
          ]
        },
        {
          "output_type": "display_data",
          "data": {
            "text/plain": [
              "<Figure size 432x288 with 1 Axes>"
            ],
            "image/png": "[encoded data removed]"
          },
          "metadata": {
            "needs_background": "light"
          }
        },
        {
          "output_type": "stream",
          "name": "stdout",
          "text": [
            "예측확률분포: [9.9969172e-01 2.1456630e-09 1.4963366e-07 5.0086833e-06 5.0541421e-10\n",
            " 1.9616167e-05 3.3068839e-06 5.0153336e-11 2.7823314e-04 2.1039646e-06]\n",
            "라벨: 8, 예측결과: 0\n"
          ]
        },
        {
          "output_type": "display_data",
          "data": {
            "text/plain": [
              "<Figure size 432x288 with 1 Axes>"
            ],
            "image/png": "[encoded data removed]"
          },
          "metadata": {
            "needs_background": "light"
          }
        },
        {
          "output_type": "stream",
          "name": "stdout",
          "text": [
            "예측확률분포: [1.2144813e-03 5.4507351e-01 9.7842119e-04 2.5791829e-09 6.4435227e-07\n",
            " 3.5682009e-04 4.4817075e-01 7.0332993e-09 4.2037712e-03 1.5506565e-06]\n",
            "라벨: 6, 예측결과: 1\n"
          ]
        },
        {
          "output_type": "display_data",
          "data": {
            "text/plain": [
              "<Figure size 432x288 with 1 Axes>"
            ],
            "image/png": "[encoded data removed]"
          },
          "metadata": {
            "needs_background": "light"
          }
        }
      ]
    },
    {
      "cell_type": "markdown",
      "source": [
        "## 6. 파라미터 수정으로 성능 올리기"
      ],
      "metadata": {
        "id": "nSkzIwjWabBg"
      }
    },
    {
      "cell_type": "code",
      "source": [
        "# 바꿔 볼 수 있는 하이퍼파라미터들\n",
        "n_channel_1=32\n",
        "n_channel_2=64\n",
        "n_dense=32\n",
        "n_train_epoch=10\n",
        "\n",
        "model=keras.models.Sequential()\n",
        "model.add(keras.layers.Conv2D(n_channel_1, (3,3), activation='relu', input_shape=(28,28,1)))\n",
        "model.add(keras.layers.MaxPool2D(2,2))\n",
        "model.add(keras.layers.Conv2D(n_channel_2, (3,3), activation='relu'))\n",
        "model.add(keras.layers.MaxPooling2D((2,2)))\n",
        "model.add(keras.layers.Flatten())\n",
        "model.add(keras.layers.Dense(n_dense, activation='relu'))\n",
        "model.add(keras.layers.Dense(10, activation='softmax'))\n",
        "\n",
        "model.summary()\n",
        "model.compile(optimizer='adam',\n",
        "             loss='sparse_categorical_crossentropy',\n",
        "             metrics=['accuracy'])\n",
        "\n",
        "# 모델 훈련\n",
        "history_2 = model.fit(x_train_reshaped, y_train, epochs=n_train_epoch)\n",
        "\n",
        "# 모델 시험\n",
        "test_loss, test_accuracy = model.evaluate(x_test_reshaped, y_test, verbose=2)\n",
        "print(\"test_loss: {} \".format(test_loss))\n",
        "print(\"test_accuracy: {}\".format(test_accuracy))"
      ],
      "metadata": {
        "colab": {
          "base_uri": "https://localhost:8080/"
        },
        "id": "8LbPR8gRUo7s",
        "outputId": "da8c72cd-af3d-4b46-bcf7-8796239ef34b"
      },
      "execution_count": null,
      "outputs": [
        {
          "output_type": "stream",
          "name": "stdout",
          "text": [
            "Model: \"sequential_3\"\n",
            "_________________________________________________________________\n",
            " Layer (type)                Output Shape              Param #   \n",
            "=================================================================\n",
            " conv2d_6 (Conv2D)           (None, 26, 26, 32)        320       \n",
            "                                                                 \n",
            " max_pooling2d_6 (MaxPooling  (None, 13, 13, 32)       0         \n",
            " 2D)                                                             \n",
            "                                                                 \n",
            " conv2d_7 (Conv2D)           (None, 11, 11, 64)        18496     \n",
            "                                                                 \n",
            " max_pooling2d_7 (MaxPooling  (None, 5, 5, 64)         0         \n",
            " 2D)                                                             \n",
            "                                                                 \n",
            " flatten_3 (Flatten)         (None, 1600)              0         \n",
            "                                                                 \n",
            " dense_6 (Dense)             (None, 32)                51232     \n",
            "                                                                 \n",
            " dense_7 (Dense)             (None, 10)                330       \n",
            "                                                                 \n",
            "=================================================================\n",
            "Total params: 70,378\n",
            "Trainable params: 70,378\n",
            "Non-trainable params: 0\n",
            "_________________________________________________________________\n",
            "Epoch 1/10\n",
            "1875/1875 [==============================] - 5s 3ms/step - loss: 0.1623 - accuracy: 0.9503\n",
            "Epoch 2/10\n",
            "1875/1875 [==============================] - 5s 3ms/step - loss: 0.0532 - accuracy: 0.9836\n",
            "Epoch 3/10\n",
            "1875/1875 [==============================] - 5s 3ms/step - loss: 0.0379 - accuracy: 0.9880\n",
            "Epoch 4/10\n",
            "1875/1875 [==============================] - 5s 3ms/step - loss: 0.0284 - accuracy: 0.9911\n",
            "Epoch 5/10\n",
            "1875/1875 [==============================] - 5s 3ms/step - loss: 0.0225 - accuracy: 0.9931\n",
            "Epoch 6/10\n",
            "1875/1875 [==============================] - 5s 3ms/step - loss: 0.0177 - accuracy: 0.9941\n",
            "Epoch 7/10\n",
            "1875/1875 [==============================] - 5s 3ms/step - loss: 0.0154 - accuracy: 0.9950\n",
            "Epoch 8/10\n",
            "1875/1875 [==============================] - 5s 3ms/step - loss: 0.0119 - accuracy: 0.9959\n",
            "Epoch 9/10\n",
            "1875/1875 [==============================] - 5s 3ms/step - loss: 0.0099 - accuracy: 0.9967\n",
            "Epoch 10/10\n",
            "1875/1875 [==============================] - 5s 3ms/step - loss: 0.0087 - accuracy: 0.9972\n",
            "313/313 - 1s - loss: 0.0371 - accuracy: 0.9901 - 700ms/epoch - 2ms/step\n",
            "test_loss: 0.03712916374206543 \n",
            "test_accuracy: 0.9901000261306763\n"
          ]
        }
      ]
    },
    {
      "cell_type": "code",
      "source": [
        "plt.plot(history_2.history['loss'])\n",
        "plt.xlabel('epoch')\n",
        "plt.ylabel('loss')\n",
        "plt.show()\n",
        "         "
      ],
      "metadata": {
        "colab": {
          "base_uri": "https://localhost:8080/",
          "height": 279
        },
        "id": "a8qaid--Zixb",
        "outputId": "5a368b31-44e1-476f-9a77-dc22e915802f"
      },
      "execution_count": null,
      "outputs": [
        {
          "output_type": "display_data",
          "data": {
            "text/plain": [
              "<Figure size 432x288 with 1 Axes>"
            ],
            "image/png": "[encoded data removed]"
          },
          "metadata": {
            "needs_background": "light"
          }
        }
      ]
    },
    {
      "cell_type": "code",
      "source": [
        "plt.plot(history.history['accuracy'])\n",
        "plt.xlabel('epoch')\n",
        "plt.ylabel('accuracy')\n",
        "plt.show()\n",
        "         "
      ],
      "metadata": {
        "colab": {
          "base_uri": "https://localhost:8080/",
          "height": 279
        },
        "id": "l_6bRsnNZsGf",
        "outputId": "b07aca3b-67e2-45ea-9079-a534c489717d"
      },
      "execution_count": null,
      "outputs": [
        {
          "output_type": "display_data",
          "data": {
            "text/plain": [
              "<Figure size 432x288 with 1 Axes>"
            ],
            "image/png": "[encoded data removed]"
          },
          "metadata": {
            "needs_background": "light"
          }
        }
      ]
    },
    {
      "cell_type": "markdown",
      "source": [
        "-   이미지 특징 수를 (32,64) 로 증가시켯더니 test accuracy 가 증가하였다."
      ],
      "metadata": {
        "id": "76NrhZlubn9B"
      }
    },
    {
      "cell_type": "code",
      "source": [
        "# 틀린 부분 출력해서 한번 보기\n",
        "import random\n",
        "wrong_predict_list=[]\n",
        "for i, _ in enumerate(predicted_labels): # 값을 무시할경우 _ 사용한다\n",
        "    # i번째 test_labels과 y_test이 다른 경우만 모아 봅시다. \n",
        "    if predicted_labels[i] != y_test[i]:\n",
        "        wrong_predict_list.append(i)\n",
        "\n",
        "# 틀린 부분의 개수를 출력해보자\n",
        "print('틀린 개수:', len(wrong_predict_list))\n",
        "\n",
        "# wrong_predict_list 에서 랜덤하게 5개만 뽑아봅시다.\n",
        "samples = random.choices(population=wrong_predict_list, k=5)\n",
        "for n in samples:\n",
        "    print(\"예측확률분포: \" + str(predicted_result[n]))\n",
        "    print(\"라벨: \" + str(y_test[n]) + \", 예측결과: \" + str(predicted_labels[n]))\n",
        "    plt.imshow(x_test[n], cmap=plt.cm.binary)\n",
        "    plt.show()"
      ],
      "metadata": {
        "id": "vIIxwjelUozb",
        "colab": {
          "base_uri": "https://localhost:8080/",
          "height": 1000
        },
        "outputId": "39f14fd6-aadd-4551-e733-6b3c44657598"
      },
      "execution_count": null,
      "outputs": [
        {
          "output_type": "stream",
          "name": "stdout",
          "text": [
            "틀린 개수: 93\n",
            "예측확률분포: [6.7660505e-01 1.3232203e-12 5.2138969e-09 3.4704200e-07 5.0757853e-10\n",
            " 1.4504095e-05 3.0957717e-01 1.4733620e-13 1.3802542e-02 4.5586151e-07]\n",
            "라벨: 6, 예측결과: 0\n"
          ]
        },
        {
          "output_type": "display_data",
          "data": {
            "text/plain": [
              "<Figure size 432x288 with 1 Axes>"
            ],
            "image/png": "[encoded data removed]"
          },
          "metadata": {
            "needs_background": "light"
          }
        },
        {
          "output_type": "stream",
          "name": "stdout",
          "text": [
            "예측확률분포: [2.6693104e-07 2.5398188e-07 5.0224862e-05 8.5085416e-01 3.9961222e-11\n",
            " 7.1938061e-08 2.3123459e-07 3.0989750e-10 1.4909483e-01 3.9497206e-09]\n",
            "라벨: 8, 예측결과: 3\n"
          ]
        },
        {
          "output_type": "display_data",
          "data": {
            "text/plain": [
              "<Figure size 432x288 with 1 Axes>"
            ],
            "image/png": "[encoded data removed]"
          },
          "metadata": {
            "needs_background": "light"
          }
        },
        {
          "output_type": "stream",
          "name": "stdout",
          "text": [
            "예측확률분포: [1.6744252e-07 1.1073158e-12 1.3302246e-08 6.0811495e-12 9.9888784e-01\n",
            " 1.8894392e-04 1.3829207e-06 3.8334267e-05 1.9912887e-09 8.8323280e-04]\n",
            "라벨: 6, 예측결과: 4\n"
          ]
        },
        {
          "output_type": "display_data",
          "data": {
            "text/plain": [
              "<Figure size 432x288 with 1 Axes>"
            ],
            "image/png": "[encoded data removed]"
          },
          "metadata": {
            "needs_background": "light"
          }
        },
        {
          "output_type": "stream",
          "name": "stdout",
          "text": [
            "예측확률분포: [2.4788051e-06 3.7394302e-06 1.7093888e-07 2.7007758e-07 4.8807436e-01\n",
            " 5.7207711e-07 5.5532183e-07 1.3292595e-06 1.8147912e-05 5.1189840e-01]\n",
            "라벨: 4, 예측결과: 9\n"
          ]
        },
        {
          "output_type": "display_data",
          "data": {
            "text/plain": [
              "<Figure size 432x288 with 1 Axes>"
            ],
            "image/png": "[encoded data removed]"
          },
          "metadata": {
            "needs_background": "light"
          }
        },
        {
          "output_type": "stream",
          "name": "stdout",
          "text": [
            "예측확률분포: [5.8327641e-06 1.2756008e-02 5.2895652e-05 1.0684314e-03 4.7221379e-03\n",
            " 3.8996468e-06 5.2465771e-10 9.7126108e-01 9.2354512e-06 1.0120564e-02]\n",
            "라벨: 9, 예측결과: 7\n"
          ]
        },
        {
          "output_type": "display_data",
          "data": {
            "text/plain": [
              "<Figure size 432x288 with 1 Axes>"
            ],
            "image/png": "[encoded data removed]"
          },
          "metadata": {
            "needs_background": "light"
          }
        }
      ]
    },
    {
      "cell_type": "markdown",
      "source": [
        "- 성능을 향상시킨후 틀랜 개수 119개 에서 102개로 줄었다.\n",
        "- 성능을 올리고 "
      ],
      "metadata": {
        "id": "0BT8HS4AKFyq"
      }
    },
    {
      "cell_type": "code",
      "source": [
        "## 비교\n",
        "plt.figure(figsize=(12, 4))\n",
        "plt.subplot(1, 2, 1)\n",
        "plt.plot(history.history['loss'], 'r')\n",
        "plt.plot(history_2.history['loss'],'b')\n",
        "plt.title('Model training loss')\n",
        "plt.ylabel('loss')\n",
        "plt.xlabel('epoch')\n",
        "plt.legend(['before','after'], loc='upper right')\n",
        "plt.show()\n",
        "\n",
        "plt.figure(figsize=(12, 4))\n",
        "plt.subplot(1, 2, 2)\n",
        "plt.plot(history.history['accuracy'], 'r')\n",
        "plt.plot(history_2.history['accuracy'],'b')\n",
        "plt.title('Model training accuracy')\n",
        "plt.ylabel('accuracy')\n",
        "plt.xlabel('epoch')\n",
        "plt.legend(['before','after'], loc='upper right')\n",
        "plt.show()"
      ],
      "metadata": {
        "id": "6C6HSxbEUom5",
        "colab": {
          "base_uri": "https://localhost:8080/",
          "height": 573
        },
        "outputId": "866ef328-0a1c-4a55-d266-f91d8ee3150c"
      },
      "execution_count": null,
      "outputs": [
        {
          "output_type": "display_data",
          "data": {
            "text/plain": [
              "<Figure size 864x288 with 1 Axes>"
            ],
            "image/png": "[encoded data removed]"
          },
          "metadata": {
            "needs_background": "light"
          }
        },
        {
          "output_type": "display_data",
          "data": {
            "text/plain": [
              "<Figure size 864x288 with 1 Axes>"
            ],
            "image/png": "[encoded data removed]"
          },
          "metadata": {
            "needs_background": "light"
          }
        }
      ]
    },
    {
      "cell_type": "markdown",
      "source": [
        ""
      ],
      "metadata": {
        "id": "qTVX9ltPeXoU"
      }
    }
  ]
}